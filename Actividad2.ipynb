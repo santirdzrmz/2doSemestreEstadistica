{
 "cells": [
  {
   "cell_type": "markdown",
   "metadata": {},
   "source": [
    "## Ejercicios de distribucion Normal"
   ]
  },
  {
   "cell_type": "code",
   "execution_count": 1,
   "metadata": {},
   "outputs": [
    {
     "data": {
      "text/plain": [
       "inf"
      ]
     },
     "execution_count": 1,
     "metadata": {},
     "output_type": "execute_result"
    }
   ],
   "source": [
    "from scipy.stats import norm\n",
    "from scipy.stats import binom\n",
    "import matplotlib.pyplot as mp\n",
    "\n",
    "norm.cdf(1, loc=0, scale=1)\n",
    "\n",
    "norm.ppf(1, loc=0, scale=1)\n"
   ]
  },
  {
   "cell_type": "markdown",
   "metadata": {},
   "source": [
    "Ejercicio 1\n"
   ]
  },
  {
   "cell_type": "code",
   "execution_count": 2,
   "metadata": {},
   "outputs": [
    {
     "name": "stdout",
     "output_type": "stream",
     "text": [
      "0.0004290603331968372\n"
     ]
    }
   ],
   "source": [
    "media = 7000\n",
    "\n",
    "sigma = 600\n",
    "\n",
    "print(norm.cdf(5000, loc=media, scale=sigma))"
   ]
  },
  {
   "cell_type": "code",
   "execution_count": 3,
   "metadata": {},
   "outputs": [
    {
     "name": "stdout",
     "output_type": "stream",
     "text": [
      "7986.912176170883\n"
     ]
    }
   ],
   "source": [
    "print(norm.ppf(0.95, loc=media, scale=sigma))"
   ]
  },
  {
   "cell_type": "code",
   "execution_count": 4,
   "metadata": {},
   "outputs": [
    {
     "name": "stdout",
     "output_type": "stream",
     "text": [
      "0.24860017647645422\n"
     ]
    }
   ],
   "source": [
    "prob = 1-norm.cdf(7500, loc = media, scale = sigma)\n",
    "n=6\n",
    "print(binom.pmf(2, n, prob))"
   ]
  },
  {
   "cell_type": "markdown",
   "metadata": {},
   "source": [
    "Ejercicio 2"
   ]
  },
  {
   "cell_type": "code",
   "execution_count": 5,
   "metadata": {},
   "outputs": [
    {
     "name": "stdout",
     "output_type": "stream",
     "text": [
      "0.758036347776927\n",
      "0.6578877473830365\n"
     ]
    }
   ],
   "source": [
    "media = 12.9\n",
    "\n",
    "sigma = 2\n",
    "\n",
    "print(1-norm.cdf(11.5, loc=media, scale = sigma))\n",
    "\n",
    "probabilidad = -norm.cdf(11, loc=media, scale = sigma)+norm.cdf(14.8, loc=media, scale = sigma)\n",
    "print(probabilidad)"
   ]
  },
  {
   "cell_type": "markdown",
   "metadata": {},
   "source": [
    "Ejercicio 3\n"
   ]
  },
  {
   "cell_type": "code",
   "execution_count": 6,
   "metadata": {},
   "outputs": [
    {
     "name": "stdout",
     "output_type": "stream",
     "text": [
      "0.8413447460685429\n",
      "81.47924035456623\n",
      "72.95027259856252\n"
     ]
    }
   ],
   "source": [
    "media = 78\n",
    "\n",
    "sigma = 6\n",
    "\n",
    "print(1-norm.cdf(72, loc=media, scale = sigma))\n",
    "\n",
    "print(norm.ppf(1-0.281, loc=media, scale=sigma))\n",
    "\n",
    "print(norm.ppf(0.2, loc=media, scale=sigma))"
   ]
  }
 ],
 "metadata": {
  "kernelspec": {
   "display_name": "base",
   "language": "python",
   "name": "python3"
  },
  "language_info": {
   "codemirror_mode": {
    "name": "ipython",
    "version": 3
   },
   "file_extension": ".py",
   "mimetype": "text/x-python",
   "name": "python",
   "nbconvert_exporter": "python",
   "pygments_lexer": "ipython3",
   "version": "3.11.5"
  }
 },
 "nbformat": 4,
 "nbformat_minor": 2
}
