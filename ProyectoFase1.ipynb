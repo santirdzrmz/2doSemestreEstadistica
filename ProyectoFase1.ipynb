{
 "cells": [
  {
   "cell_type": "markdown",
   "metadata": {},
   "source": [
    "## Etapa 1"
   ]
  },
  {
   "cell_type": "code",
   "execution_count": 11,
   "metadata": {},
   "outputs": [],
   "source": [
    "import pandas as pd\n",
    "import numpy as np\n",
    "import matplotlib.pyplot as plt\n",
    "import scipy.stats as sp"
   ]
  },
  {
   "cell_type": "code",
   "execution_count": 12,
   "metadata": {},
   "outputs": [],
   "source": [
    "#Exporting csv to a dataframe and cleaning\n",
    "datos2024 = pd.read_csv('Datos_molec_2024.csv', encoding='latin-1')\n",
    "datos2023 = pd.read_csv('Datos_molec_2023.csv', encoding='latin-1')\n",
    "datos2022 = pd.read_csv('Datos_molec_2022.csv', encoding='latin-1')\n",
    "\n",
    "diccionario2024 = pd.read_csv('Diccionario_molec_2024.csv').loc[:, [\"NOMBRE_CAMPO\", \"TIPO\", 'NEMÓNICO']]\n",
    "diccionario2023 = pd.read_csv('Diccionario_molec_2023.csv').loc[:, [\"NOMBRE_CAMPO\", \"TIPO\", 'NEMÓNICO']]\n",
    "diccionario2022 = pd.read_csv('Diccionario_molec_2022.csv').loc[:, [\"NOMBRE_CAMPO\", \"TIPO\", 'NEMÓNICO']]\n",
    "\n",
    "datos2024.columns = diccionario2024.loc[:, \"NOMBRE_CAMPO\"]\n",
    "datos2023.columns = diccionario2023.loc[:, \"NOMBRE_CAMPO\"]\n",
    "datos2022.columns = diccionario2022.loc[:, \"NOMBRE_CAMPO\"]\n"
   ]
  },
  {
   "cell_type": "code",
   "execution_count": 13,
   "metadata": {},
   "outputs": [
    {
     "name": "stdout",
     "output_type": "stream",
     "text": [
      "Index(['Folio ', 'Entidad ', 'Control ', 'Vivienda seleccionada ',\n",
      "       'Número de hogar ', 'hogar mudado ',\n",
      "       'Número de renglón del informante elegido  ',\n",
      "       'Ciudad autorrepresentada ', 'Periodo ', 'Sexo',\n",
      "       ...\n",
      "       '36. ¿Cuando usted era niño(a), en su escuela primaria sus maestros lo(a) motivaban para que leyera otros libros?',\n",
      "       '36. ¿Cuando usted era niño(a), en su escuela primaria sus maestros lo(a) animaban para visitar bibliotecas?',\n",
      "       'Factor', 'Habito de lectura ', 'Materiales de lectura ',\n",
      "       'Status de las personas en condición de lectura de materiales considerados por MOLEC ',\n",
      "       'Formato de libros ', 'Formato de revistas ', 'Formato de periódicos  ',\n",
      "       'Personas lectoras de libros, revistas o periódicos'],\n",
      "      dtype='object', name='NOMBRE_CAMPO', length=108)\n"
     ]
    }
   ],
   "source": [
    "\n",
    "\n",
    "#Variables de interes\n",
    "variables = [\"Sexo\", \"Edad\", \n",
    "    \"4. ¿Cuántos libros leyó en los últimos doce meses?\", \n",
    "    \"10. ¿Cuántas revistas leyó en los últimos tres meses?\",\n",
    "    \"16. ¿Cuántos periódicos leyó la semana pasada?\",\n",
    "    \"26. Aproximadamente, ¿cuántos minutos continuos lee algún material de lectura?\",\n",
    "    \"30. Cuando usted lee algún Alfanumérico , ¿la comprensión de su lectura es…\",\n",
    "    \"32. ¿Cuál es el motivo principal por el que usted no lee los materiales de lectura antes mencionados?\",\n",
    "    \"24. Sin considerar redes sociales como Facebook y Twitter, ¿las páginas de internet, foros o blogs acostumbra leerlos…\",\n",
    "    \"Nivel de instrucción\"\n",
    "]\n",
    "\n",
    "\n",
    "#Finding the columns with the respective rows of the interested variables. \n",
    "print(datos2024.columns)\n",
    "datos2024 = datos2024.loc[:, variables]\n",
    "\n",
    "\n",
    "#Getting dummy variables for categorical variables\n",
    "pd.get_dummies(datos2024, columns=[\"Sexo\",\n",
    "    \"30. Cuando usted lee algún Alfanumérico , ¿la comprensión de su lectura es…\",\n",
    "    \"32. ¿Cuál es el motivo principal por el que usted no lee los materiales de lectura antes mencionados?\",\n",
    "    \"24. Sin considerar redes sociales como Facebook y Twitter, ¿las páginas de internet, foros o blogs acostumbra leerlos…\",\n",
    "    \"Nivel de instrucción\"\n",
    "])\n",
    "\n",
    "\n",
    "#Encoding categorical variables as boolean to den retype as integer (1 or 0)\n",
    "hot_columns = datos2024.columns[datos2024.dtypes == 'bool']\n",
    "datos2024[hot_columns] = datos2024[hot_columns].astype(int)"
   ]
  }
 ],
 "metadata": {
  "kernelspec": {
   "display_name": "base",
   "language": "python",
   "name": "python3"
  },
  "language_info": {
   "codemirror_mode": {
    "name": "ipython",
    "version": 3
   },
   "file_extension": ".py",
   "mimetype": "text/x-python",
   "name": "python",
   "nbconvert_exporter": "python",
   "pygments_lexer": "ipython3",
   "version": "3.11.5"
  }
 },
 "nbformat": 4,
 "nbformat_minor": 2
}
